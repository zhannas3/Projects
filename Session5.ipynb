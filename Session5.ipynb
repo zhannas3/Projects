{
 "cells": [
  {
   "cell_type": "code",
   "execution_count": 0,
   "metadata": {
    "colab": {},
    "colab_type": "code",
    "id": "S62An1gMC_hn"
   },
   "outputs": [],
   "source": [
    "import numpy as np\n",
    "import matplotlib.pyplot as plt"
   ]
  },
  {
   "cell_type": "code",
   "execution_count": 0,
   "metadata": {
    "colab": {},
    "colab_type": "code",
    "id": "oCvFktKaDaRC"
   },
   "outputs": [],
   "source": [
    "def sigmoid(x):\n",
    "  return 1.0/(1+np.exp(-x))"
   ]
  },
  {
   "cell_type": "code",
   "execution_count": 0,
   "metadata": {
    "colab": {},
    "colab_type": "code",
    "id": "ro4QkwU4DqWw"
   },
   "outputs": [],
   "source": [
    "def sigmoid_der(x):\n",
    "  return x*(1-x)"
   ]
  },
  {
   "cell_type": "code",
   "execution_count": 0,
   "metadata": {
    "colab": {},
    "colab_type": "code",
    "id": "NiZ_TqjaD95s"
   },
   "outputs": [],
   "source": [
    "class NeuralNetwork:\n",
    "  def __init__(self,x,y):\n",
    "    self.input = x\n",
    "    self.weights1 = np.random.rand(self.input.shape[1], 4)\n",
    "    self.weights2 = np.random.rand(4,1)\n",
    "    self.y = y\n",
    "    self.output = np.zeros(self.y.shape)\n",
    "    self.cost = 0\n",
    "    self.lr = 1\n",
    "  def feedforward(self):\n",
    "    self.layer1 = sigmoid(np.dot(self.input, self.weights1))\n",
    "    self.output = sigmoid(np.dot(self.layer1, self.weights2))\n",
    "    self.cost = ((self.output - y)**2).mean()/2\n",
    "  def backprop(self):\n",
    "    d_weights2 = np.dot(self.layer1.T, (2*(self.y - self.output)*sigmoid_der(self.output)))\n",
    "    d_weights1 = np.dot(self.input.T, (np.dot(2*(self.y - self.output) * sigmoid_der(self.output), self.weights2.T)*sigmoid_der(self.layer1)))\n",
    "    self.weights1+=self.lr*d_weights1\n",
    "    self.weights2+=self.lr*d_weights2"
   ]
  },
  {
   "cell_type": "code",
   "execution_count": 0,
   "metadata": {
    "colab": {},
    "colab_type": "code",
    "id": "sQ6-UeqcMxMp"
   },
   "outputs": [],
   "source": [
    "X = np.array([[0, 0, 1],\n",
    "              [0, 1, 1],\n",
    "              [1, 0, 1],\n",
    "              [1, 1, 1]])\n",
    "y=np.array([[0], [1], [1], [0]])\n",
    "\n",
    "nn = NeuralNetwork(X, y)\n",
    "\n",
    "costs = []"
   ]
  },
  {
   "cell_type": "code",
   "execution_count": 16,
   "metadata": {
    "colab": {
     "base_uri": "https://localhost:8080/",
     "height": 340
    },
    "colab_type": "code",
    "executionInfo": {
     "elapsed": 894,
     "status": "ok",
     "timestamp": 1554027590360,
     "user": {
      "displayName": "Zhanna Sakayeva",
      "photoUrl": "",
      "userId": "14164915688351036727"
     },
     "user_tz": -360
    },
    "id": "F8guONj-OtYS",
    "outputId": "72b54db5-201d-4d35-e1e8-8782caa3e720"
   },
   "outputs": [
    {
     "name": "stdout",
     "output_type": "stream",
     "text": [
      "Iteration: 1, Cost = 0.16205605868512074\n",
      "Iteration: 101, Cost = 0.11479480235713635\n",
      "Iteration: 201, Cost = 0.024998456808849264\n",
      "Iteration: 301, Cost = 0.005769985635953271\n",
      "Iteration: 401, Cost = 0.002882186024578425\n",
      "Iteration: 501, Cost = 0.0018607348396788232\n",
      "Iteration: 601, Cost = 0.0013559069127914714\n",
      "Iteration: 701, Cost = 0.0010593253130316224\n",
      "Iteration: 801, Cost = 0.0008657239553866422\n",
      "Iteration: 901, Cost = 0.0007300637114061303\n",
      "Iteration: 1001, Cost = 0.0006300412917209897\n",
      "Iteration: 1101, Cost = 0.0005534165329796884\n",
      "Iteration: 1201, Cost = 0.0004929386673458638\n",
      "Iteration: 1301, Cost = 0.0004440510991102763\n",
      "Iteration: 1401, Cost = 0.0004037522686808489\n",
      "[[0.00907412]\n",
      " [0.97150381]\n",
      " [0.97141185]\n",
      " [0.03536565]]\n"
     ]
    }
   ],
   "source": [
    "for i in range(1500):\n",
    "  nn.feedforward()\n",
    "  nn.backprop()\n",
    "  J = nn.cost\n",
    "  costs.append(J)\n",
    "  if i%100 == 0:\n",
    "    print(f\"Iteration: {i+1}, Cost = {J}\")\n",
    "print(nn.output)"
   ]
  },
  {
   "cell_type": "code",
   "execution_count": 0,
   "metadata": {
    "colab": {},
    "colab_type": "code",
    "id": "EoCufPgAQ3QK"
   },
   "outputs": [],
   "source": [
    "plt.plot(np.linspace())"
   ]
  },
  {
   "cell_type": "code",
   "execution_count": 17,
   "metadata": {
    "colab": {
     "base_uri": "https://localhost:8080/",
     "height": 34
    },
    "colab_type": "code",
    "executionInfo": {
     "elapsed": 2200,
     "status": "ok",
     "timestamp": 1554028059067,
     "user": {
      "displayName": "Zhanna Sakayeva",
      "photoUrl": "",
      "userId": "14164915688351036727"
     },
     "user_tz": -360
    },
    "id": "zw2mD6AbRWCC",
    "outputId": "54d7257e-6407-441a-9fa3-0ce068f1c7ed"
   },
   "outputs": [
    {
     "name": "stderr",
     "output_type": "stream",
     "text": [
      "Using TensorFlow backend.\n"
     ]
    }
   ],
   "source": [
    "import keras\n",
    "from keras.optimizers import SGD\n",
    "from keras.layers import Dense\n",
    "from keras.models import Sequential"
   ]
  },
  {
   "cell_type": "code",
   "execution_count": 24,
   "metadata": {
    "colab": {
     "base_uri": "https://localhost:8080/",
     "height": 88
    },
    "colab_type": "code",
    "executionInfo": {
     "elapsed": 811,
     "status": "ok",
     "timestamp": 1554028373706,
     "user": {
      "displayName": "Zhanna Sakayeva",
      "photoUrl": "",
      "userId": "14164915688351036727"
     },
     "user_tz": -360
    },
    "id": "4BxOD8VwSlDg",
    "outputId": "1fa64476-15a4-4101-8150-8d159a734100"
   },
   "outputs": [
    {
     "name": "stdout",
     "output_type": "stream",
     "text": [
      "WARNING:tensorflow:From /usr/local/lib/python3.6/dist-packages/tensorflow/python/framework/op_def_library.py:263: colocate_with (from tensorflow.python.framework.ops) is deprecated and will be removed in a future version.\n",
      "Instructions for updating:\n",
      "Colocations handled automatically by placer.\n"
     ]
    }
   ],
   "source": [
    "model = Sequential()\n",
    "model.add(Dense(4, activation = 'sigmoid', input_shape=(3,)))\n",
    "model.add(Dense(1, activation = 'sigmoid'))"
   ]
  },
  {
   "cell_type": "code",
   "execution_count": 0,
   "metadata": {
    "colab": {},
    "colab_type": "code",
    "id": "c9KUi4iUTEWf"
   },
   "outputs": [],
   "source": [
    "model.compile(optimizer = SGD(lr=1),\n",
    "             loss = 'mean_squared_error', metrics = ['mae']) #mae-mean average error"
   ]
  },
  {
   "cell_type": "code",
   "execution_count": 0,
   "metadata": {
    "colab": {},
    "colab_type": "code",
    "id": "3OFgcJSBT4nT"
   },
   "outputs": [],
   "source": [
    "history = model.fit(X,y,batch_size = 1,\n",
    "                   epochs = 1500,\n",
    "                   verbose = 0)"
   ]
  },
  {
   "cell_type": "code",
   "execution_count": 40,
   "metadata": {
    "colab": {
     "base_uri": "https://localhost:8080/",
     "height": 85
    },
    "colab_type": "code",
    "executionInfo": {
     "elapsed": 619,
     "status": "ok",
     "timestamp": 1554028805359,
     "user": {
      "displayName": "Zhanna Sakayeva",
      "photoUrl": "",
      "userId": "14164915688351036727"
     },
     "user_tz": -360
    },
    "id": "mqPhjvaHVT1M",
    "outputId": "a5647e83-a241-4276-939c-f01d979c3bca"
   },
   "outputs": [
    {
     "data": {
      "text/plain": [
       "array([[0.00823746],\n",
       "       [0.98989516],\n",
       "       [0.992576  ],\n",
       "       [0.00855618]], dtype=float32)"
      ]
     },
     "execution_count": 40,
     "metadata": {
      "tags": []
     },
     "output_type": "execute_result"
    }
   ],
   "source": [
    "model.predict(X)"
   ]
  },
  {
   "cell_type": "code",
   "execution_count": 0,
   "metadata": {
    "colab": {},
    "colab_type": "code",
    "id": "MX3Go-XbUw3z"
   },
   "outputs": [],
   "source": []
  }
 ],
 "metadata": {
  "colab": {
   "name": "Session5.ipynb",
   "provenance": [],
   "version": "0.3.2"
  },
  "kernelspec": {
   "display_name": "Python 3 (ipykernel)",
   "language": "python",
   "name": "python3"
  },
  "language_info": {
   "codemirror_mode": {
    "name": "ipython",
    "version": 3
   },
   "file_extension": ".py",
   "mimetype": "text/x-python",
   "name": "python",
   "nbconvert_exporter": "python",
   "pygments_lexer": "ipython3",
   "version": "3.9.7"
  }
 },
 "nbformat": 4,
 "nbformat_minor": 1
}
